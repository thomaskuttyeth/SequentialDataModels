{
 "cells": [
  {
   "cell_type": "code",
   "execution_count": 2,
   "id": "e3843dc7-112b-41b5-ae2c-0d34027ceea7",
   "metadata": {},
   "outputs": [
    {
     "name": "stdout",
     "output_type": "stream",
     "text": [
      "WARNING:tensorflow:Layer lstm_1 will not use cuDNN kernels since it doesn't meet the criteria. It will use a generic GPU kernel as fallback when running on GPU.\n",
      "Model: \"sequential_1\"\n",
      "_________________________________________________________________\n",
      " Layer (type)                Output Shape              Param #   \n",
      "=================================================================\n",
      " lstm_1 (LSTM)               (None, 128)               80384     \n",
      "                                                                 \n",
      " dense_1 (Dense)             (None, 10)                1290      \n",
      "                                                                 \n",
      "=================================================================\n",
      "Total params: 81,674\n",
      "Trainable params: 81,674\n",
      "Non-trainable params: 0\n",
      "_________________________________________________________________\n",
      "None\n"
     ]
    }
   ],
   "source": [
    "import tensorflow as tf\n",
    "from tensorflow import keras\n",
    "from tensorflow.keras import layers\n",
    "import numpy as np\n",
    "mnist = keras.datasets.mnist\n",
    "\n",
    "(x_train, y_train), (x_test, y_test) = mnist.load_data()\n",
    "x_train, x_test = x_train / 255.0, x_test / 255.0\n",
    "# model\n",
    "model = keras.models.Sequential()\n",
    "model.add(keras.Input(shape=(28,28))) # seq_length, input_size\n",
    "#model.add(layers.SimpleRNN(128, return_sequences=True, activation='relu')) # N, 28, 128\n",
    "model.add(layers.LSTM(128, return_sequences=False, activation='relu')) # N, 128\n",
    "model.add(layers.Dense(10))\n",
    "print(model.summary())\n",
    "# training\n",
    "batch_size = 64\n",
    "epochs = 5\n",
    "# loss and optimizer\n",
    "loss = keras.losses.SparseCategoricalCrossentropy(from_logits=True)\n",
    "optim = keras.optimizers.Adam(lr=0.001)\n",
    "metrics = [\"accuracy\"]\n",
    "\n",
    "model.compile(loss=loss, optimizer=optim, metrics=metrics)"
   ]
  },
  {
   "cell_type": "code",
   "execution_count": 15,
   "id": "19bdd2ee-ba4d-4e81-a078-da917404acd5",
   "metadata": {},
   "outputs": [
    {
     "name": "stdout",
     "output_type": "stream",
     "text": [
      "Epoch 1/5\n",
      "938/938 - 155s - loss: 0.5954 - accuracy: 0.8104 - 155s/epoch - 165ms/step\n",
      "Epoch 2/5\n",
      "938/938 - 158s - loss: 0.1342 - accuracy: 0.9590 - 158s/epoch - 168ms/step\n",
      "Epoch 3/5\n",
      "938/938 - 181s - loss: 0.0964 - accuracy: 0.9706 - 181s/epoch - 193ms/step\n",
      "Epoch 4/5\n",
      "938/938 - 175s - loss: 0.0716 - accuracy: 0.9783 - 175s/epoch - 186ms/step\n",
      "Epoch 5/5\n",
      "938/938 - 167s - loss: 0.0613 - accuracy: 0.9811 - 167s/epoch - 178ms/step\n"
     ]
    },
    {
     "data": {
      "text/plain": [
       "<keras.callbacks.History at 0x247bc8f07c8>"
      ]
     },
     "execution_count": 15,
     "metadata": {},
     "output_type": "execute_result"
    }
   ],
   "source": [
    "model.fit(x_train, y_train, batch_size=batch_size, epochs=epochs, verbose=2)"
   ]
  },
  {
   "cell_type": "code",
   "execution_count": 35,
   "id": "ad857316-a2fa-4964-8c37-50e77cd1ef06",
   "metadata": {},
   "outputs": [
    {
     "name": "stdout",
     "output_type": "stream",
     "text": [
      "1/1 [==============================] - 0s 22ms/step\n",
      "predicted probabilities =  [[ -6.755543    -1.5946995   -1.9822052    0.86530435  -2.4248152\n",
      "   -3.236097   -14.346052    12.645551    -6.4401164    1.396679  ]]\n",
      "predicted_label =  7\n",
      "actual label =  7\n"
     ]
    }
   ],
   "source": [
    "pred_proba = model.predict(np.array([x_test[0],]))\n",
    "print('predicted probabilities = ',pred_proba)\n",
    "print('predicted_label = ', pred_proba.argmax())\n",
    "print('actual label = ', y_test[0])"
   ]
  }
 ],
 "metadata": {
  "kernelspec": {
   "display_name": "Python 3 (ipykernel)",
   "language": "python",
   "name": "python3"
  },
  "language_info": {
   "codemirror_mode": {
    "name": "ipython",
    "version": 3
   },
   "file_extension": ".py",
   "mimetype": "text/x-python",
   "name": "python",
   "nbconvert_exporter": "python",
   "pygments_lexer": "ipython3",
   "version": "3.7.13"
  }
 },
 "nbformat": 4,
 "nbformat_minor": 5
}
